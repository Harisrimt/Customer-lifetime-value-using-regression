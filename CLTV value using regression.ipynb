{
 "cells": [
  {
   "cell_type": "markdown",
   "metadata": {},
   "source": [
    "## Importing necessary libraries"
   ]
  },
  {
   "cell_type": "code",
   "execution_count": 68,
   "metadata": {},
   "outputs": [],
   "source": [
    "import pandas as pd\n",
    "import numpy as np\n",
    "import matplotlib.pyplot as plt\n",
    "import seaborn as sns\n",
    "from sklearn.model_selection import train_test_split\n",
    "from sklearn.preprocessing import OneHotEncoder\n",
    "from sklearn.ensemble import RandomForestRegressor\n",
    "import scipy.stats as stats\n",
    "from sklearn.metrics import classification_report, confusion_matrix, accuracy_score\n",
    "\n",
    "# Importing datasets\n",
    "dataset = pd.read_csv(\"train_BRCpofr.csv\")\n",
    "dataset2 = pd.read_csv(\"test_koRSKBP.csv\")"
   ]
  },
  {
   "cell_type": "code",
   "execution_count": 2,
   "metadata": {},
   "outputs": [],
   "source": [
    "# Extracting the numerical columns\n",
    "numerical_cols = dataset.select_dtypes(include=[\"int64\",\"float64\"])\n",
    "numerical_cols = numerical_cols.drop([\"marital_status\",\"vintage\"],axis=1)"
   ]
  },
  {
   "cell_type": "code",
   "execution_count": 3,
   "metadata": {},
   "outputs": [],
   "source": [
    "# Extracting categorical columns\n",
    "cat_cols = dataset.select_dtypes(include=\"object\")\n",
    "no_col = dataset[[\"marital_status\",\"vintage\"]]\n",
    "cat_cols = pd.concat([cat_cols,no_col],axis=1)"
   ]
  },
  {
   "cell_type": "code",
   "execution_count": 4,
   "metadata": {},
   "outputs": [
    {
     "name": "stderr",
     "output_type": "stream",
     "text": [
      "/Users/hari/anaconda3/lib/python3.10/site-packages/scipy/stats/_morestats.py:1816: UserWarning: p-value may not be accurate for N > 5000.\n",
      "  warnings.warn(\"p-value may not be accurate for N > 5000.\")\n"
     ]
    },
    {
     "data": {
      "text/plain": [
       "ShapiroResult(statistic=0.6532831788063049, pvalue=0.0)"
      ]
     },
     "execution_count": 4,
     "metadata": {},
     "output_type": "execute_result"
    }
   ],
   "source": [
    "stats.shapiro(dataset['cltv'])"
   ]
  },
  {
   "cell_type": "code",
   "execution_count": 5,
   "metadata": {},
   "outputs": [],
   "source": [
    "columns_cat = list(cat_cols.columns)"
   ]
  },
  {
   "cell_type": "markdown",
   "metadata": {},
   "source": [
    "##### Dividing the columns into two categories to identify those with only two categories in them and the others. This way, AnoVa test and Mann-Whiteney U test can be done on them.\n",
    "This is because Mann-Whiteney U test can be used only for features with two categories in them.\n",
    "Kruskal test instead of AnoVa test is carried out since we are already using Mann-Whiteney test and something similar should be considered for AnoVa test also to maintain similarity of analysis."
   ]
  },
  {
   "cell_type": "code",
   "execution_count": 6,
   "metadata": {},
   "outputs": [
    {
     "name": "stdout",
     "output_type": "stream",
     "text": [
      "Anova: ['qualification', 'income', 'policy', 'type_of_policy', 'vintage']\n",
      "TTest: ['gender', 'area', 'num_policies', 'marital_status']\n"
     ]
    }
   ],
   "source": [
    "manwhiteneyy = []\n",
    "anova = []\n",
    "\n",
    "for i in columns_cat:\n",
    "    if (dataset[i].nunique()>2):\n",
    "        anova.append(i)\n",
    "    else:\n",
    "        manwhiteneyy.append(i)\n",
    "print(\"Anova:\",anova)\n",
    "print(\"TTest:\",manwhiteneyy)"
   ]
  },
  {
   "cell_type": "markdown",
   "metadata": {},
   "source": [
    "### Performing either AnoVa or Mann-Whiteney test on all the features"
   ]
  },
  {
   "cell_type": "code",
   "execution_count": 7,
   "metadata": {},
   "outputs": [],
   "source": [
    "male=dataset[dataset['gender']=='Male']['cltv']\n",
    "female=dataset[dataset['gender']=='Female']['cltv']"
   ]
  },
  {
   "cell_type": "code",
   "execution_count": 8,
   "metadata": {},
   "outputs": [
    {
     "name": "stdout",
     "output_type": "stream",
     "text": [
      "MannwhitneyuResult(statistic=941814999.0, pvalue=7.273338880024198e-26)\n"
     ]
    }
   ],
   "source": [
    "a =stats.mannwhitneyu(male,female)\n",
    "print(a)"
   ]
  },
  {
   "cell_type": "markdown",
   "metadata": {},
   "source": [
    "p-value is less than 0.05.  \n",
    "We accept null hypothesis. ie, the mean rank will be different for \"males\" and \"females\"."
   ]
  },
  {
   "cell_type": "code",
   "execution_count": 9,
   "metadata": {},
   "outputs": [],
   "source": [
    "Rural=dataset[dataset['area']=='Rural']['cltv']\n",
    "Urban=dataset[dataset['area']=='Urban']['cltv']"
   ]
  },
  {
   "cell_type": "code",
   "execution_count": 10,
   "metadata": {},
   "outputs": [
    {
     "name": "stdout",
     "output_type": "stream",
     "text": [
      "MannwhitneyuResult(statistic=701743471.5, pvalue=0.0)\n"
     ]
    }
   ],
   "source": [
    "b =stats.mannwhitneyu(Rural, Urban)\n",
    "print(b)"
   ]
  },
  {
   "cell_type": "markdown",
   "metadata": {},
   "source": [
    "We accept null hypothesis. ie, the mean rank will be different for \"Rural\" and \"Urban\"."
   ]
  },
  {
   "cell_type": "code",
   "execution_count": 11,
   "metadata": {},
   "outputs": [],
   "source": [
    "One = dataset[dataset['num_policies']=='1']['cltv']\n",
    "More = dataset[dataset['num_policies']=='More than 1']['cltv']"
   ]
  },
  {
   "cell_type": "code",
   "execution_count": 12,
   "metadata": {},
   "outputs": [
    {
     "name": "stdout",
     "output_type": "stream",
     "text": [
      "MannwhitneyuResult(statistic=205859866.5, pvalue=0.0)\n"
     ]
    }
   ],
   "source": [
    "c =stats.mannwhitneyu(One,More)\n",
    "print(c)"
   ]
  },
  {
   "cell_type": "markdown",
   "metadata": {},
   "source": [
    "We accept null hypothesis. ie, the mean rank will be different for \"One\" and \"More than 1\"."
   ]
  },
  {
   "cell_type": "code",
   "execution_count": 13,
   "metadata": {},
   "outputs": [],
   "source": [
    "NotMarried = dataset[dataset['marital_status']==1]['cltv']\n",
    "Married = dataset[dataset['marital_status']==1]['cltv']"
   ]
  },
  {
   "cell_type": "code",
   "execution_count": 14,
   "metadata": {},
   "outputs": [
    {
     "name": "stdout",
     "output_type": "stream",
     "text": [
      "MannwhitneyuResult(statistic=1323242568.0, pvalue=1.0)\n"
     ]
    }
   ],
   "source": [
    "d =stats.mannwhitneyu(NotMarried,Married)\n",
    "print(d)"
   ]
  },
  {
   "cell_type": "markdown",
   "metadata": {},
   "source": [
    "We reject null hypothesis. ie, the mean rank will be the same for \"One\" and \"More than 1\".  \n",
    "H0:the mean ranks of the groups are the same.  \n",
    "H1:the mean ranks of the groups are not the same."
   ]
  },
  {
   "cell_type": "code",
   "execution_count": 15,
   "metadata": {},
   "outputs": [],
   "source": [
    "HighSchool = dataset[dataset['qualification']=='High School']['cltv']\n",
    "Bachelor = dataset[dataset['qualification']=='Bachelor']['cltv']\n",
    "Others = dataset[dataset['qualification']=='Others']['cltv']"
   ]
  },
  {
   "cell_type": "code",
   "execution_count": 16,
   "metadata": {},
   "outputs": [
    {
     "name": "stdout",
     "output_type": "stream",
     "text": [
      "KruskalResult(statistic=488.5607350954876, pvalue=8.13550163541344e-107)\n"
     ]
    }
   ],
   "source": [
    "e = stats.kruskal(HighSchool, Bachelor, Others)\n",
    "print(e)"
   ]
  },
  {
   "cell_type": "markdown",
   "metadata": {},
   "source": [
    "p-value < 0.05 to reject H0"
   ]
  },
  {
   "cell_type": "code",
   "execution_count": 17,
   "metadata": {},
   "outputs": [
    {
     "data": {
      "text/plain": [
       "F_onewayResult(statistic=98.99276677439613, pvalue=1.1363927139220727e-43)"
      ]
     },
     "execution_count": 17,
     "metadata": {},
     "output_type": "execute_result"
    }
   ],
   "source": [
    "stats.f_oneway(HighSchool, Bachelor, Others)"
   ]
  },
  {
   "cell_type": "code",
   "execution_count": 18,
   "metadata": {},
   "outputs": [],
   "source": [
    "L5_10 = dataset[dataset['income']=='5L-10L']['cltv']\n",
    "L2_5 = dataset[dataset['income']=='2L-5L']['cltv']\n",
    "L10_more = dataset[dataset['income']=='More than 10L']['cltv']\n",
    "L2_less = dataset[dataset['income']=='<=2L']['cltv']"
   ]
  },
  {
   "cell_type": "code",
   "execution_count": 19,
   "metadata": {},
   "outputs": [
    {
     "name": "stdout",
     "output_type": "stream",
     "text": [
      "KruskalResult(statistic=488.5607350954876, pvalue=8.13550163541344e-107)\n"
     ]
    }
   ],
   "source": [
    "f = stats.kruskal(HighSchool, Bachelor, Others)\n",
    "print(f)"
   ]
  },
  {
   "cell_type": "markdown",
   "metadata": {},
   "source": [
    "p-value < 0.05 to reject H0"
   ]
  },
  {
   "cell_type": "code",
   "execution_count": 20,
   "metadata": {},
   "outputs": [],
   "source": [
    "Policy_A = dataset[dataset['policy']=='A']['cltv']\n",
    "Policy_B = dataset[dataset['policy']=='B']['cltv']\n",
    "Policy_C = dataset[dataset['policy']=='C']['cltv']"
   ]
  },
  {
   "cell_type": "code",
   "execution_count": 21,
   "metadata": {},
   "outputs": [
    {
     "name": "stdout",
     "output_type": "stream",
     "text": [
      "KruskalResult(statistic=54.224531473648675, pvalue=1.6799354651971304e-12)\n"
     ]
    }
   ],
   "source": [
    "g = stats.kruskal(Policy_A, Policy_B, Policy_C)\n",
    "print(g)"
   ]
  },
  {
   "cell_type": "markdown",
   "metadata": {},
   "source": [
    "p-value < 0.05 to reject H0"
   ]
  },
  {
   "cell_type": "code",
   "execution_count": 22,
   "metadata": {},
   "outputs": [],
   "source": [
    "Gold = dataset[dataset['type_of_policy']=='Gold']['cltv']\n",
    "Platinum = dataset[dataset['type_of_policy']=='Platinum']['cltv']\n",
    "Silver = dataset[dataset['type_of_policy']=='Silver']['cltv']"
   ]
  },
  {
   "cell_type": "code",
   "execution_count": 23,
   "metadata": {},
   "outputs": [
    {
     "name": "stdout",
     "output_type": "stream",
     "text": [
      "KruskalResult(statistic=147.72632635547495, pvalue=8.349026047703084e-33)\n"
     ]
    }
   ],
   "source": [
    "h = stats.kruskal(Gold, Platinum, Silver)\n",
    "print(h)"
   ]
  },
  {
   "cell_type": "markdown",
   "metadata": {},
   "source": [
    "p-value < 0.05 to reject H0"
   ]
  },
  {
   "cell_type": "code",
   "execution_count": 24,
   "metadata": {},
   "outputs": [],
   "source": [
    "V_0 = dataset[dataset['vintage']==0]['cltv']\n",
    "V_1 = dataset[dataset['vintage']==1]['cltv']\n",
    "V_2 = dataset[dataset['vintage']==2]['cltv']\n",
    "V_3 = dataset[dataset['vintage']==3]['cltv']\n",
    "V_4 = dataset[dataset['vintage']==4]['cltv']\n",
    "V_5 = dataset[dataset['vintage']==5]['cltv']\n",
    "V_6 = dataset[dataset['vintage']==6]['cltv']\n",
    "V_7 = dataset[dataset['vintage']==7]['cltv']\n",
    "V_8 = dataset[dataset['vintage']==8]['cltv']"
   ]
  },
  {
   "cell_type": "code",
   "execution_count": 25,
   "metadata": {},
   "outputs": [
    {
     "name": "stdout",
     "output_type": "stream",
     "text": [
      "KruskalResult(statistic=490.04639346733666, pvalue=9.606744158646924e-101)\n"
     ]
    }
   ],
   "source": [
    "i = stats.kruskal(V_0, V_1, V_2, V_3, V_4, V_5, V_6, V_7, V_8)\n",
    "print(i)"
   ]
  },
  {
   "cell_type": "markdown",
   "metadata": {},
   "source": [
    "p-value < 0.05 to reject H0"
   ]
  },
  {
   "cell_type": "markdown",
   "metadata": {},
   "source": [
    "#### Extract all the p-values obtained till now and storing it in a dataframe for ease of understanding"
   ]
  },
  {
   "cell_type": "code",
   "execution_count": 26,
   "metadata": {},
   "outputs": [],
   "source": [
    "# Extracting p-values from the above analyses\n",
    "p_values = [a[1],b[1],c[1],d[1],e[1],f[1],g[1],h[1],i[1]]"
   ]
  },
  {
   "cell_type": "code",
   "execution_count": 27,
   "metadata": {},
   "outputs": [
    {
     "data": {
      "text/html": [
       "<div>\n",
       "<style scoped>\n",
       "    .dataframe tbody tr th:only-of-type {\n",
       "        vertical-align: middle;\n",
       "    }\n",
       "\n",
       "    .dataframe tbody tr th {\n",
       "        vertical-align: top;\n",
       "    }\n",
       "\n",
       "    .dataframe thead th {\n",
       "        text-align: right;\n",
       "    }\n",
       "</style>\n",
       "<table border=\"1\" class=\"dataframe\">\n",
       "  <thead>\n",
       "    <tr style=\"text-align: right;\">\n",
       "      <th></th>\n",
       "      <th>P_Value</th>\n",
       "    </tr>\n",
       "  </thead>\n",
       "  <tbody>\n",
       "    <tr>\n",
       "      <th>gender</th>\n",
       "      <td>7.273339e-26</td>\n",
       "    </tr>\n",
       "    <tr>\n",
       "      <th>area</th>\n",
       "      <td>0.000000e+00</td>\n",
       "    </tr>\n",
       "    <tr>\n",
       "      <th>qualification</th>\n",
       "      <td>0.000000e+00</td>\n",
       "    </tr>\n",
       "    <tr>\n",
       "      <th>income</th>\n",
       "      <td>1.000000e+00</td>\n",
       "    </tr>\n",
       "    <tr>\n",
       "      <th>num_policies</th>\n",
       "      <td>8.135502e-107</td>\n",
       "    </tr>\n",
       "    <tr>\n",
       "      <th>policy</th>\n",
       "      <td>8.135502e-107</td>\n",
       "    </tr>\n",
       "    <tr>\n",
       "      <th>type_of_policy</th>\n",
       "      <td>1.679935e-12</td>\n",
       "    </tr>\n",
       "    <tr>\n",
       "      <th>marital_status</th>\n",
       "      <td>8.349026e-33</td>\n",
       "    </tr>\n",
       "    <tr>\n",
       "      <th>vintage</th>\n",
       "      <td>9.606744e-101</td>\n",
       "    </tr>\n",
       "  </tbody>\n",
       "</table>\n",
       "</div>"
      ],
      "text/plain": [
       "                      P_Value\n",
       "gender           7.273339e-26\n",
       "area             0.000000e+00\n",
       "qualification    0.000000e+00\n",
       "income           1.000000e+00\n",
       "num_policies    8.135502e-107\n",
       "policy          8.135502e-107\n",
       "type_of_policy   1.679935e-12\n",
       "marital_status   8.349026e-33\n",
       "vintage         9.606744e-101"
      ]
     },
     "execution_count": 27,
     "metadata": {},
     "output_type": "execute_result"
    }
   ],
   "source": [
    "pd.DataFrame(p_values,index=(cat_cols.columns),columns=['P_Value'])"
   ]
  },
  {
   "cell_type": "code",
   "execution_count": 28,
   "metadata": {},
   "outputs": [
    {
     "data": {
      "text/html": [
       "<div>\n",
       "<style scoped>\n",
       "    .dataframe tbody tr th:only-of-type {\n",
       "        vertical-align: middle;\n",
       "    }\n",
       "\n",
       "    .dataframe tbody tr th {\n",
       "        vertical-align: top;\n",
       "    }\n",
       "\n",
       "    .dataframe thead th {\n",
       "        text-align: right;\n",
       "    }\n",
       "</style>\n",
       "<table border=\"1\" class=\"dataframe\">\n",
       "  <thead>\n",
       "    <tr style=\"text-align: right;\">\n",
       "      <th></th>\n",
       "      <th>id</th>\n",
       "      <th>claim_amount</th>\n",
       "      <th>cltv</th>\n",
       "    </tr>\n",
       "  </thead>\n",
       "  <tbody>\n",
       "    <tr>\n",
       "      <th>0</th>\n",
       "      <td>1</td>\n",
       "      <td>5790</td>\n",
       "      <td>64308</td>\n",
       "    </tr>\n",
       "    <tr>\n",
       "      <th>1</th>\n",
       "      <td>2</td>\n",
       "      <td>5080</td>\n",
       "      <td>515400</td>\n",
       "    </tr>\n",
       "  </tbody>\n",
       "</table>\n",
       "</div>"
      ],
      "text/plain": [
       "   id  claim_amount    cltv\n",
       "0   1          5790   64308\n",
       "1   2          5080  515400"
      ]
     },
     "execution_count": 28,
     "metadata": {},
     "output_type": "execute_result"
    }
   ],
   "source": [
    "numerical_cols.head(2)"
   ]
  },
  {
   "cell_type": "code",
   "execution_count": 29,
   "metadata": {},
   "outputs": [],
   "source": [
    "import statsmodels.api as sm"
   ]
  },
  {
   "cell_type": "code",
   "execution_count": 30,
   "metadata": {},
   "outputs": [],
   "source": [
    "catg=pd.get_dummies(cat_cols,drop_first=True)"
   ]
  },
  {
   "cell_type": "code",
   "execution_count": 31,
   "metadata": {},
   "outputs": [
    {
     "data": {
      "text/html": [
       "<div>\n",
       "<style scoped>\n",
       "    .dataframe tbody tr th:only-of-type {\n",
       "        vertical-align: middle;\n",
       "    }\n",
       "\n",
       "    .dataframe tbody tr th {\n",
       "        vertical-align: top;\n",
       "    }\n",
       "\n",
       "    .dataframe thead th {\n",
       "        text-align: right;\n",
       "    }\n",
       "</style>\n",
       "<table border=\"1\" class=\"dataframe\">\n",
       "  <thead>\n",
       "    <tr style=\"text-align: right;\">\n",
       "      <th></th>\n",
       "      <th>id</th>\n",
       "      <th>claim_amount</th>\n",
       "      <th>cltv</th>\n",
       "      <th>marital_status</th>\n",
       "      <th>vintage</th>\n",
       "      <th>gender_Male</th>\n",
       "      <th>area_Urban</th>\n",
       "      <th>qualification_High School</th>\n",
       "      <th>qualification_Others</th>\n",
       "      <th>income_5L-10L</th>\n",
       "      <th>income_&lt;=2L</th>\n",
       "      <th>income_More than 10L</th>\n",
       "      <th>num_policies_More than 1</th>\n",
       "      <th>policy_B</th>\n",
       "      <th>policy_C</th>\n",
       "      <th>type_of_policy_Platinum</th>\n",
       "      <th>type_of_policy_Silver</th>\n",
       "    </tr>\n",
       "  </thead>\n",
       "  <tbody>\n",
       "    <tr>\n",
       "      <th>0</th>\n",
       "      <td>1</td>\n",
       "      <td>5790</td>\n",
       "      <td>64308</td>\n",
       "      <td>1</td>\n",
       "      <td>5</td>\n",
       "      <td>1</td>\n",
       "      <td>1</td>\n",
       "      <td>0</td>\n",
       "      <td>0</td>\n",
       "      <td>1</td>\n",
       "      <td>0</td>\n",
       "      <td>0</td>\n",
       "      <td>1</td>\n",
       "      <td>0</td>\n",
       "      <td>0</td>\n",
       "      <td>1</td>\n",
       "      <td>0</td>\n",
       "    </tr>\n",
       "    <tr>\n",
       "      <th>1</th>\n",
       "      <td>2</td>\n",
       "      <td>5080</td>\n",
       "      <td>515400</td>\n",
       "      <td>0</td>\n",
       "      <td>8</td>\n",
       "      <td>1</td>\n",
       "      <td>0</td>\n",
       "      <td>1</td>\n",
       "      <td>0</td>\n",
       "      <td>1</td>\n",
       "      <td>0</td>\n",
       "      <td>0</td>\n",
       "      <td>1</td>\n",
       "      <td>0</td>\n",
       "      <td>0</td>\n",
       "      <td>1</td>\n",
       "      <td>0</td>\n",
       "    </tr>\n",
       "  </tbody>\n",
       "</table>\n",
       "</div>"
      ],
      "text/plain": [
       "   id  claim_amount    cltv  marital_status  vintage  gender_Male  area_Urban  \\\n",
       "0   1          5790   64308               1        5            1           1   \n",
       "1   2          5080  515400               0        8            1           0   \n",
       "\n",
       "   qualification_High School  qualification_Others  income_5L-10L  \\\n",
       "0                          0                     0              1   \n",
       "1                          1                     0              1   \n",
       "\n",
       "   income_<=2L  income_More than 10L  num_policies_More than 1  policy_B  \\\n",
       "0            0                     0                         1         0   \n",
       "1            0                     0                         1         0   \n",
       "\n",
       "   policy_C  type_of_policy_Platinum  type_of_policy_Silver  \n",
       "0         0                        1                      0  \n",
       "1         0                        1                      0  "
      ]
     },
     "execution_count": 31,
     "metadata": {},
     "output_type": "execute_result"
    }
   ],
   "source": [
    "datasetn = pd.concat([numerical_cols,catg],axis=1)\n",
    "datasetn.head(2)"
   ]
  },
  {
   "cell_type": "code",
   "execution_count": 32,
   "metadata": {},
   "outputs": [
    {
     "data": {
      "text/plain": [
       "id                           0\n",
       "claim_amount                 0\n",
       "cltv                         0\n",
       "marital_status               0\n",
       "vintage                      0\n",
       "gender_Male                  0\n",
       "area_Urban                   0\n",
       "qualification_High School    0\n",
       "qualification_Others         0\n",
       "income_5L-10L                0\n",
       "income_<=2L                  0\n",
       "income_More than 10L         0\n",
       "num_policies_More than 1     0\n",
       "policy_B                     0\n",
       "policy_C                     0\n",
       "type_of_policy_Platinum      0\n",
       "type_of_policy_Silver        0\n",
       "dtype: int64"
      ]
     },
     "execution_count": 32,
     "metadata": {},
     "output_type": "execute_result"
    }
   ],
   "source": [
    "datasetn.isnull().sum()"
   ]
  },
  {
   "cell_type": "code",
   "execution_count": 33,
   "metadata": {},
   "outputs": [],
   "source": [
    "datasetn.rename(columns={'cltv':'cltv'},inplace=True)"
   ]
  },
  {
   "cell_type": "markdown",
   "metadata": {},
   "source": [
    "### Using simple linear regression with OLS model"
   ]
  },
  {
   "cell_type": "code",
   "execution_count": null,
   "metadata": {},
   "outputs": [],
   "source": [
    "X=datasetn.drop(['cltv'],axis=1)\n",
    "y=datasetn['cltv']\n",
    "X_constant=sm.add_constant(X)"
   ]
  },
  {
   "cell_type": "code",
   "execution_count": 34,
   "metadata": {},
   "outputs": [
    {
     "data": {
      "text/html": [
       "<table class=\"simpletable\">\n",
       "<caption>OLS Regression Results</caption>\n",
       "<tr>\n",
       "  <th>Dep. Variable:</th>          <td>cltv</td>       <th>  R-squared:         </th>  <td>   0.152</td>  \n",
       "</tr>\n",
       "<tr>\n",
       "  <th>Model:</th>                   <td>OLS</td>       <th>  Adj. R-squared:    </th>  <td>   0.152</td>  \n",
       "</tr>\n",
       "<tr>\n",
       "  <th>Method:</th>             <td>Least Squares</td>  <th>  F-statistic:       </th>  <td>   1003.</td>  \n",
       "</tr>\n",
       "<tr>\n",
       "  <th>Date:</th>             <td>Mon, 08 Jan 2024</td> <th>  Prob (F-statistic):</th>   <td>  0.00</td>   \n",
       "</tr>\n",
       "<tr>\n",
       "  <th>Time:</th>                 <td>13:31:42</td>     <th>  Log-Likelihood:    </th> <td>-1.1398e+06</td>\n",
       "</tr>\n",
       "<tr>\n",
       "  <th>No. Observations:</th>      <td> 89392</td>      <th>  AIC:               </th>  <td>2.280e+06</td> \n",
       "</tr>\n",
       "<tr>\n",
       "  <th>Df Residuals:</th>          <td> 89375</td>      <th>  BIC:               </th>  <td>2.280e+06</td> \n",
       "</tr>\n",
       "<tr>\n",
       "  <th>Df Model:</th>              <td>    16</td>      <th>                     </th>      <td> </td>     \n",
       "</tr>\n",
       "<tr>\n",
       "  <th>Covariance Type:</th>      <td>nonrobust</td>    <th>                     </th>      <td> </td>     \n",
       "</tr>\n",
       "</table>\n",
       "<table class=\"simpletable\">\n",
       "<tr>\n",
       "              <td></td>                 <th>coef</th>     <th>std err</th>      <th>t</th>      <th>P>|t|</th>  <th>[0.025</th>    <th>0.975]</th>  \n",
       "</tr>\n",
       "<tr>\n",
       "  <th>const</th>                     <td> 4.741e+04</td> <td> 1451.325</td> <td>   32.670</td> <td> 0.000</td> <td> 4.46e+04</td> <td> 5.03e+04</td>\n",
       "</tr>\n",
       "<tr>\n",
       "  <th>id</th>                        <td>   -0.0106</td> <td>    0.011</td> <td>   -0.979</td> <td> 0.328</td> <td>   -0.032</td> <td>    0.011</td>\n",
       "</tr>\n",
       "<tr>\n",
       "  <th>claim_amount</th>              <td>    2.6948</td> <td>    0.098</td> <td>   27.455</td> <td> 0.000</td> <td>    2.502</td> <td>    2.887</td>\n",
       "</tr>\n",
       "<tr>\n",
       "  <th>marital_status</th>            <td>-7191.0410</td> <td>  572.733</td> <td>  -12.556</td> <td> 0.000</td> <td>-8313.593</td> <td>-6068.489</td>\n",
       "</tr>\n",
       "<tr>\n",
       "  <th>vintage</th>                   <td>  223.6507</td> <td>  122.611</td> <td>    1.824</td> <td> 0.068</td> <td>  -16.665</td> <td>  463.966</td>\n",
       "</tr>\n",
       "<tr>\n",
       "  <th>gender_Male</th>               <td> 2335.0812</td> <td>  567.924</td> <td>    4.112</td> <td> 0.000</td> <td> 1221.956</td> <td> 3448.207</td>\n",
       "</tr>\n",
       "<tr>\n",
       "  <th>area_Urban</th>                <td> 6301.0331</td> <td>  702.679</td> <td>    8.967</td> <td> 0.000</td> <td> 4923.790</td> <td> 7678.277</td>\n",
       "</tr>\n",
       "<tr>\n",
       "  <th>qualification_High School</th> <td> -928.3233</td> <td>  576.107</td> <td>   -1.611</td> <td> 0.107</td> <td>-2057.488</td> <td>  200.841</td>\n",
       "</tr>\n",
       "<tr>\n",
       "  <th>qualification_Others</th>      <td>-8060.2204</td> <td> 1431.864</td> <td>   -5.629</td> <td> 0.000</td> <td>-1.09e+04</td> <td>-5253.781</td>\n",
       "</tr>\n",
       "<tr>\n",
       "  <th>income_5L-10L</th>             <td>-5022.7152</td> <td>  702.751</td> <td>   -7.147</td> <td> 0.000</td> <td>-6400.101</td> <td>-3645.329</td>\n",
       "</tr>\n",
       "<tr>\n",
       "  <th>income_<=2L</th>               <td>-4383.8000</td> <td> 2027.855</td> <td>   -2.162</td> <td> 0.031</td> <td>-8358.376</td> <td> -409.224</td>\n",
       "</tr>\n",
       "<tr>\n",
       "  <th>income_More than 10L</th>      <td>-7041.7128</td> <td>  948.402</td> <td>   -7.425</td> <td> 0.000</td> <td>-8900.572</td> <td>-5182.854</td>\n",
       "</tr>\n",
       "<tr>\n",
       "  <th>num_policies_More than 1</th>  <td> 6.494e+04</td> <td>  610.541</td> <td>  106.364</td> <td> 0.000</td> <td> 6.37e+04</td> <td> 6.61e+04</td>\n",
       "</tr>\n",
       "<tr>\n",
       "  <th>policy_B</th>                  <td>-7669.9268</td> <td>  667.310</td> <td>  -11.494</td> <td> 0.000</td> <td>-8977.848</td> <td>-6362.005</td>\n",
       "</tr>\n",
       "<tr>\n",
       "  <th>policy_C</th>                  <td> 9659.0243</td> <td>  994.913</td> <td>    9.708</td> <td> 0.000</td> <td> 7709.005</td> <td> 1.16e+04</td>\n",
       "</tr>\n",
       "<tr>\n",
       "  <th>type_of_policy_Platinum</th>   <td> -660.4207</td> <td>  697.707</td> <td>   -0.947</td> <td> 0.344</td> <td>-2027.920</td> <td>  707.079</td>\n",
       "</tr>\n",
       "<tr>\n",
       "  <th>type_of_policy_Silver</th>     <td>-2413.4461</td> <td>  825.307</td> <td>   -2.924</td> <td> 0.003</td> <td>-4031.041</td> <td> -795.851</td>\n",
       "</tr>\n",
       "</table>\n",
       "<table class=\"simpletable\">\n",
       "<tr>\n",
       "  <th>Omnibus:</th>       <td>51164.068</td> <th>  Durbin-Watson:     </th>  <td>   1.994</td> \n",
       "</tr>\n",
       "<tr>\n",
       "  <th>Prob(Omnibus):</th>  <td> 0.000</td>   <th>  Jarque-Bera (JB):  </th> <td>403299.249</td>\n",
       "</tr>\n",
       "<tr>\n",
       "  <th>Skew:</th>           <td> 2.731</td>   <th>  Prob(JB):          </th>  <td>    0.00</td> \n",
       "</tr>\n",
       "<tr>\n",
       "  <th>Kurtosis:</th>       <td>11.857</td>   <th>  Cond. No.          </th>  <td>3.83e+05</td> \n",
       "</tr>\n",
       "</table><br/><br/>Notes:<br/>[1] Standard Errors assume that the covariance matrix of the errors is correctly specified.<br/>[2] The condition number is large, 3.83e+05. This might indicate that there are<br/>strong multicollinearity or other numerical problems."
      ],
      "text/plain": [
       "<class 'statsmodels.iolib.summary.Summary'>\n",
       "\"\"\"\n",
       "                            OLS Regression Results                            \n",
       "==============================================================================\n",
       "Dep. Variable:                   cltv   R-squared:                       0.152\n",
       "Model:                            OLS   Adj. R-squared:                  0.152\n",
       "Method:                 Least Squares   F-statistic:                     1003.\n",
       "Date:                Mon, 08 Jan 2024   Prob (F-statistic):               0.00\n",
       "Time:                        13:31:42   Log-Likelihood:            -1.1398e+06\n",
       "No. Observations:               89392   AIC:                         2.280e+06\n",
       "Df Residuals:                   89375   BIC:                         2.280e+06\n",
       "Df Model:                          16                                         \n",
       "Covariance Type:            nonrobust                                         \n",
       "=============================================================================================\n",
       "                                coef    std err          t      P>|t|      [0.025      0.975]\n",
       "---------------------------------------------------------------------------------------------\n",
       "const                      4.741e+04   1451.325     32.670      0.000    4.46e+04    5.03e+04\n",
       "id                           -0.0106      0.011     -0.979      0.328      -0.032       0.011\n",
       "claim_amount                  2.6948      0.098     27.455      0.000       2.502       2.887\n",
       "marital_status            -7191.0410    572.733    -12.556      0.000   -8313.593   -6068.489\n",
       "vintage                     223.6507    122.611      1.824      0.068     -16.665     463.966\n",
       "gender_Male                2335.0812    567.924      4.112      0.000    1221.956    3448.207\n",
       "area_Urban                 6301.0331    702.679      8.967      0.000    4923.790    7678.277\n",
       "qualification_High School  -928.3233    576.107     -1.611      0.107   -2057.488     200.841\n",
       "qualification_Others      -8060.2204   1431.864     -5.629      0.000   -1.09e+04   -5253.781\n",
       "income_5L-10L             -5022.7152    702.751     -7.147      0.000   -6400.101   -3645.329\n",
       "income_<=2L               -4383.8000   2027.855     -2.162      0.031   -8358.376    -409.224\n",
       "income_More than 10L      -7041.7128    948.402     -7.425      0.000   -8900.572   -5182.854\n",
       "num_policies_More than 1   6.494e+04    610.541    106.364      0.000    6.37e+04    6.61e+04\n",
       "policy_B                  -7669.9268    667.310    -11.494      0.000   -8977.848   -6362.005\n",
       "policy_C                   9659.0243    994.913      9.708      0.000    7709.005    1.16e+04\n",
       "type_of_policy_Platinum    -660.4207    697.707     -0.947      0.344   -2027.920     707.079\n",
       "type_of_policy_Silver     -2413.4461    825.307     -2.924      0.003   -4031.041    -795.851\n",
       "==============================================================================\n",
       "Omnibus:                    51164.068   Durbin-Watson:                   1.994\n",
       "Prob(Omnibus):                  0.000   Jarque-Bera (JB):           403299.249\n",
       "Skew:                           2.731   Prob(JB):                         0.00\n",
       "Kurtosis:                      11.857   Cond. No.                     3.83e+05\n",
       "==============================================================================\n",
       "\n",
       "Notes:\n",
       "[1] Standard Errors assume that the covariance matrix of the errors is correctly specified.\n",
       "[2] The condition number is large, 3.83e+05. This might indicate that there are\n",
       "strong multicollinearity or other numerical problems.\n",
       "\"\"\""
      ]
     },
     "execution_count": 34,
     "metadata": {},
     "output_type": "execute_result"
    }
   ],
   "source": [
    "lin_reg=sm.OLS(y,X_constant).fit()\n",
    "lin_reg.summary()"
   ]
  },
  {
   "cell_type": "markdown",
   "metadata": {},
   "source": [
    "# Assumption 1 No Auto correlation."
   ]
  },
  {
   "cell_type": "markdown",
   "metadata": {},
   "source": [
    "Durbin-Watson test"
   ]
  },
  {
   "cell_type": "code",
   "execution_count": 35,
   "metadata": {},
   "outputs": [
    {
     "name": "stderr",
     "output_type": "stream",
     "text": [
      "/var/folders/bp/xcn4mbr53tscnw24mpsq4m0m0000gn/T/ipykernel_43832/1638708378.py:4: UserWarning: Matplotlib is currently using module://matplotlib_inline.backend_inline, which is a non-GUI backend, so cannot show the figure.\n",
      "  acf.show()\n"
     ]
    },
    {
     "data": {
      "image/png": "[encoded data removed]",
      "text/plain": [
       "<Figure size 640x480 with 1 Axes>"
      ]
     },
     "metadata": {},
     "output_type": "display_data"
    }
   ],
   "source": [
    "import statsmodels.tsa.api as smt #timeseries analysis\n",
    "\n",
    "acf = smt.graphics.plot_acf(lin_reg.resid, lags=40 , alpha=0.05)#auto_correlation value, lags= previous value\n",
    "acf.show()"
   ]
  },
  {
   "cell_type": "markdown",
   "metadata": {},
   "source": [
    "# Assumption 2- Normality of Residuals"
   ]
  },
  {
   "cell_type": "markdown",
   "metadata": {},
   "source": [
    "H0: the error terms are normally distributed.  \n",
    "dof for residuals is n-2.  \n",
    "\n",
    "Jarque–Bera test"
   ]
  },
  {
   "cell_type": "code",
   "execution_count": 36,
   "metadata": {},
   "outputs": [
    {
     "name": "stdout",
     "output_type": "stream",
     "text": [
      "SignificanceResult(statistic=403299.2490508901, pvalue=0.0)\n"
     ]
    }
   ],
   "source": [
    "from scipy import stats\n",
    "print(stats.jarque_bera(lin_reg.resid))"
   ]
  },
  {
   "cell_type": "code",
   "execution_count": 37,
   "metadata": {},
   "outputs": [
    {
     "name": "stderr",
     "output_type": "stream",
     "text": [
      "/var/folders/bp/xcn4mbr53tscnw24mpsq4m0m0000gn/T/ipykernel_43832/1889532679.py:3: UserWarning: \n",
      "\n",
      "`distplot` is a deprecated function and will be removed in seaborn v0.14.0.\n",
      "\n",
      "Please adapt your code to use either `displot` (a figure-level function with\n",
      "similar flexibility) or `histplot` (an axes-level function for histograms).\n",
      "\n",
      "For a guide to updating your code to use the new functions, please see\n",
      "https://gist.github.com/mwaskom/de44147ed2974457ad6372750bbe5751\n",
      "\n",
      "  sns.distplot(lin_reg.resid)\n"
     ]
    },
    {
     "data": {
      "image/png": "[encoded data removed]",
      "text/plain": [
       "<Figure size 640x480 with 1 Axes>"
      ]
     },
     "metadata": {},
     "output_type": "display_data"
    }
   ],
   "source": [
    "import seaborn as sns\n",
    "\n",
    "sns.distplot(lin_reg.resid)\n",
    "plt.show()"
   ]
  },
  {
   "cell_type": "markdown",
   "metadata": {},
   "source": [
    "# Asssumption 3 - Linearity of residuals"
   ]
  },
  {
   "cell_type": "markdown",
   "metadata": {},
   "source": [
    "Rainbow test"
   ]
  },
  {
   "cell_type": "code",
   "execution_count": 38,
   "metadata": {},
   "outputs": [
    {
     "data": {
      "text/plain": [
       "(0.9793706291034856, 0.9862110538120116)"
      ]
     },
     "execution_count": 38,
     "metadata": {},
     "output_type": "execute_result"
    }
   ],
   "source": [
    "import statsmodels.api as sm\n",
    "sm.stats.diagnostic.linear_rainbow(res=lin_reg, frac=0.5)#the fraction of the data to include in the center model"
   ]
  },
  {
   "cell_type": "markdown",
   "metadata": {},
   "source": [
    "H0:The data is linear, pvalue > 0.05 failed to reject H0.  \n",
    "Here we failed to reject H0 so residuals are normally distributed"
   ]
  },
  {
   "cell_type": "markdown",
   "metadata": {},
   "source": [
    "# Assumption 4 - Homoscedasticity_test"
   ]
  },
  {
   "cell_type": "markdown",
   "metadata": {},
   "source": [
    "Goldfeld test"
   ]
  },
  {
   "cell_type": "code",
   "execution_count": 39,
   "metadata": {},
   "outputs": [],
   "source": [
    "import statsmodels.stats.api as sms"
   ]
  },
  {
   "cell_type": "code",
   "execution_count": 40,
   "metadata": {},
   "outputs": [
    {
     "data": {
      "text/plain": [
       "(0.9708261655058291, 0.9991232619019168, 'increasing')"
      ]
     },
     "execution_count": 40,
     "metadata": {},
     "output_type": "execute_result"
    }
   ],
   "source": [
    "name=['F-statistic','p-value']\n",
    "test=sms.het_goldfeldquandt(lin_reg.resid,lin_reg.model.exog)\n",
    "\n",
    "test"
   ]
  },
  {
   "cell_type": "markdown",
   "metadata": {},
   "source": [
    "p-value > 0.05 indicates the presence of heteroscedasticity."
   ]
  },
  {
   "cell_type": "markdown",
   "metadata": {},
   "source": [
    "# Assumption 5- NO MULTI COLLINEARITY"
   ]
  },
  {
   "cell_type": "code",
   "execution_count": 41,
   "metadata": {},
   "outputs": [
    {
     "data": {
      "text/html": [
       "<div>\n",
       "<style scoped>\n",
       "    .dataframe tbody tr th:only-of-type {\n",
       "        vertical-align: middle;\n",
       "    }\n",
       "\n",
       "    .dataframe tbody tr th {\n",
       "        vertical-align: top;\n",
       "    }\n",
       "\n",
       "    .dataframe thead th {\n",
       "        text-align: right;\n",
       "    }\n",
       "</style>\n",
       "<table border=\"1\" class=\"dataframe\">\n",
       "  <thead>\n",
       "    <tr style=\"text-align: right;\">\n",
       "      <th></th>\n",
       "      <th>vif</th>\n",
       "    </tr>\n",
       "  </thead>\n",
       "  <tbody>\n",
       "    <tr>\n",
       "      <th>id</th>\n",
       "      <td>1.000212</td>\n",
       "    </tr>\n",
       "    <tr>\n",
       "      <th>claim_amount</th>\n",
       "      <td>1.316536</td>\n",
       "    </tr>\n",
       "    <tr>\n",
       "      <th>marital_status</th>\n",
       "      <td>1.028913</td>\n",
       "    </tr>\n",
       "    <tr>\n",
       "      <th>vintage</th>\n",
       "      <td>1.012604</td>\n",
       "    </tr>\n",
       "    <tr>\n",
       "      <th>gender_Male</th>\n",
       "      <td>1.017865</td>\n",
       "    </tr>\n",
       "    <tr>\n",
       "      <th>area_Urban</th>\n",
       "      <td>1.334691</td>\n",
       "    </tr>\n",
       "    <tr>\n",
       "      <th>qualification_High School</th>\n",
       "      <td>1.064073</td>\n",
       "    </tr>\n",
       "    <tr>\n",
       "      <th>qualification_Others</th>\n",
       "      <td>1.056888</td>\n",
       "    </tr>\n",
       "    <tr>\n",
       "      <th>income_5L-10L</th>\n",
       "      <td>1.534187</td>\n",
       "    </tr>\n",
       "    <tr>\n",
       "      <th>income_&lt;=2L</th>\n",
       "      <td>1.072336</td>\n",
       "    </tr>\n",
       "    <tr>\n",
       "      <th>income_More than 10L</th>\n",
       "      <td>1.495443</td>\n",
       "    </tr>\n",
       "    <tr>\n",
       "      <th>num_policies_More than 1</th>\n",
       "      <td>1.051372</td>\n",
       "    </tr>\n",
       "    <tr>\n",
       "      <th>policy_B</th>\n",
       "      <td>1.141419</td>\n",
       "    </tr>\n",
       "    <tr>\n",
       "      <th>policy_C</th>\n",
       "      <td>1.048770</td>\n",
       "    </tr>\n",
       "    <tr>\n",
       "      <th>type_of_policy_Platinum</th>\n",
       "      <td>1.555035</td>\n",
       "    </tr>\n",
       "    <tr>\n",
       "      <th>type_of_policy_Silver</th>\n",
       "      <td>1.572353</td>\n",
       "    </tr>\n",
       "  </tbody>\n",
       "</table>\n",
       "</div>"
      ],
      "text/plain": [
       "                                vif\n",
       "id                         1.000212\n",
       "claim_amount               1.316536\n",
       "marital_status             1.028913\n",
       "vintage                    1.012604\n",
       "gender_Male                1.017865\n",
       "area_Urban                 1.334691\n",
       "qualification_High School  1.064073\n",
       "qualification_Others       1.056888\n",
       "income_5L-10L              1.534187\n",
       "income_<=2L                1.072336\n",
       "income_More than 10L       1.495443\n",
       "num_policies_More than 1   1.051372\n",
       "policy_B                   1.141419\n",
       "policy_C                   1.048770\n",
       "type_of_policy_Platinum    1.555035\n",
       "type_of_policy_Silver      1.572353"
      ]
     },
     "execution_count": 41,
     "metadata": {},
     "output_type": "execute_result"
    }
   ],
   "source": [
    "from statsmodels.stats.outliers_influence import variance_inflation_factor\n",
    "vif = [variance_inflation_factor(X_constant.values, i) for i in range(X_constant.shape[1])]\n",
    "pd.DataFrame({'vif': vif[1:]}, index=X.columns)"
   ]
  },
  {
   "cell_type": "code",
   "execution_count": null,
   "metadata": {},
   "outputs": [],
   "source": []
  },
  {
   "cell_type": "code",
   "execution_count": 42,
   "metadata": {},
   "outputs": [],
   "source": [
    "# Dividing training set to input and output\n",
    "y_train = dataset['cltv']\n",
    "X_train_raw = dataset.drop(['cltv'], axis=1)\n",
    "\n",
    "# Saving test data to X_test_raw\n",
    "X_test_raw = dataset2"
   ]
  },
  {
   "cell_type": "code",
   "execution_count": 43,
   "metadata": {},
   "outputs": [],
   "source": [
    "# Using one hot encoder to transform categorical features in training data and test data\n",
    "ohe = OneHotEncoder()\n",
    "column_extract_train = ohe.fit_transform(X_train_raw[['gender', 'area', 'qualification','income','num_policies',\n",
    "                                          'policy','type_of_policy']]).toarray()\n",
    "column_extract_test = ohe.fit_transform(X_test_raw[['gender', 'area', 'qualification','income','num_policies',\n",
    "                                          'policy','type_of_policy']]).toarray()"
   ]
  },
  {
   "cell_type": "markdown",
   "metadata": {},
   "source": [
    "#### Using countplot to visualize the frequency of occurrence of each category in the features"
   ]
  },
  {
   "cell_type": "code",
   "execution_count": 44,
   "metadata": {},
   "outputs": [
    {
     "data": {
      "text/plain": [
       "<Axes: xlabel='qualification', ylabel='count'>"
      ]
     },
     "execution_count": 44,
     "metadata": {},
     "output_type": "execute_result"
    },
    {
     "data": {
      "image/png": "[encoded data removed]",
      "text/plain": [
       "<Figure size 1000x500 with 1 Axes>"
      ]
     },
     "metadata": {},
     "output_type": "display_data"
    }
   ],
   "source": [
    "plt.figure(figsize=(10,5))\n",
    "sns.countplot(dataset, x=\"qualification\")"
   ]
  },
  {
   "cell_type": "code",
   "execution_count": 45,
   "metadata": {},
   "outputs": [
    {
     "data": {
      "text/plain": [
       "<Axes: xlabel='gender', ylabel='count'>"
      ]
     },
     "execution_count": 45,
     "metadata": {},
     "output_type": "execute_result"
    },
    {
     "data": {
      "image/png": "[encoded data removed]",
      "text/plain": [
       "<Figure size 1000x500 with 1 Axes>"
      ]
     },
     "metadata": {},
     "output_type": "display_data"
    }
   ],
   "source": [
    "plt.figure(figsize=(10,5))\n",
    "sns.countplot(dataset, x = \"gender\")"
   ]
  },
  {
   "cell_type": "code",
   "execution_count": 46,
   "metadata": {},
   "outputs": [
    {
     "data": {
      "text/plain": [
       "<Axes: xlabel='area', ylabel='count'>"
      ]
     },
     "execution_count": 46,
     "metadata": {},
     "output_type": "execute_result"
    },
    {
     "data": {
      "image/png": "[encoded data removed]",
      "text/plain": [
       "<Figure size 1000x500 with 1 Axes>"
      ]
     },
     "metadata": {},
     "output_type": "display_data"
    }
   ],
   "source": [
    "plt.figure(figsize=(10,5))\n",
    "sns.countplot(dataset, x = \"area\")"
   ]
  },
  {
   "cell_type": "code",
   "execution_count": 47,
   "metadata": {},
   "outputs": [
    {
     "data": {
      "text/plain": [
       "<Axes: xlabel='num_policies', ylabel='count'>"
      ]
     },
     "execution_count": 47,
     "metadata": {},
     "output_type": "execute_result"
    },
    {
     "data": {
      "image/png": "[encoded data removed]",
      "text/plain": [
       "<Figure size 1000x500 with 1 Axes>"
      ]
     },
     "metadata": {},
     "output_type": "display_data"
    }
   ],
   "source": [
    "plt.figure(figsize=(10,5))\n",
    "sns.countplot(dataset, x = \"num_policies\")"
   ]
  },
  {
   "cell_type": "code",
   "execution_count": 48,
   "metadata": {},
   "outputs": [
    {
     "data": {
      "text/plain": [
       "<Axes: xlabel='marital_status', ylabel='count'>"
      ]
     },
     "execution_count": 48,
     "metadata": {},
     "output_type": "execute_result"
    },
    {
     "data": {
      "image/png": "[encoded data removed]",
      "text/plain": [
       "<Figure size 1000x500 with 1 Axes>"
      ]
     },
     "metadata": {},
     "output_type": "display_data"
    }
   ],
   "source": [
    "plt.figure(figsize=(10,5))\n",
    "sns.countplot(dataset, x = \"marital_status\")"
   ]
  },
  {
   "cell_type": "code",
   "execution_count": 49,
   "metadata": {},
   "outputs": [
    {
     "data": {
      "text/plain": [
       "<Axes: xlabel='policy', ylabel='count'>"
      ]
     },
     "execution_count": 49,
     "metadata": {},
     "output_type": "execute_result"
    },
    {
     "data": {
      "image/png": "[encoded data removed]",
      "text/plain": [
       "<Figure size 1000x500 with 1 Axes>"
      ]
     },
     "metadata": {},
     "output_type": "display_data"
    }
   ],
   "source": [
    "plt.figure(figsize=(10,5))\n",
    "sns.countplot(dataset, x = \"policy\")"
   ]
  },
  {
   "cell_type": "code",
   "execution_count": 50,
   "metadata": {},
   "outputs": [
    {
     "data": {
      "text/plain": [
       "<Axes: xlabel='type_of_policy', ylabel='count'>"
      ]
     },
     "execution_count": 50,
     "metadata": {},
     "output_type": "execute_result"
    },
    {
     "data": {
      "image/png": "[encoded data removed]",
      "text/plain": [
       "<Figure size 1000x500 with 1 Axes>"
      ]
     },
     "metadata": {},
     "output_type": "display_data"
    }
   ],
   "source": [
    "plt.figure(figsize=(10,5))\n",
    "sns.countplot(dataset, x = \"type_of_policy\")"
   ]
  },
  {
   "cell_type": "code",
   "execution_count": 51,
   "metadata": {},
   "outputs": [
    {
     "data": {
      "text/plain": [
       "<Axes: xlabel='vintage', ylabel='count'>"
      ]
     },
     "execution_count": 51,
     "metadata": {},
     "output_type": "execute_result"
    },
    {
     "data": {
      "image/png": "[encoded data removed]",
      "text/plain": [
       "<Figure size 1000x500 with 1 Axes>"
      ]
     },
     "metadata": {},
     "output_type": "display_data"
    }
   ],
   "source": [
    "plt.figure(figsize=(10,5))\n",
    "sns.countplot(dataset, x = \"vintage\")"
   ]
  },
  {
   "cell_type": "code",
   "execution_count": 52,
   "metadata": {},
   "outputs": [
    {
     "data": {
      "image/png": "[encoded data removed]",
      "text/plain": [
       "<Figure size 700x400 with 2 Axes>"
      ]
     },
     "metadata": {},
     "output_type": "display_data"
    }
   ],
   "source": [
    "heatmap = dataset[['cltv', 'claim_amount']]\n",
    "plt.figure(figsize=(7,4))\n",
    "sns.heatmap(heatmap.corr(),annot=True)\n",
    "plt.show()"
   ]
  },
  {
   "cell_type": "markdown",
   "metadata": {},
   "source": [
    "The correlation heatmap shows that the correlation between \"cltv\" and \"claim_amount\" is very less"
   ]
  },
  {
   "cell_type": "markdown",
   "metadata": {},
   "source": [
    "#### Extracting labels of columns and making dataframe"
   ]
  },
  {
   "cell_type": "code",
   "execution_count": 53,
   "metadata": {},
   "outputs": [],
   "source": [
    "labels = ohe.categories_\n",
    "labels_train = np.hstack(labels)\n",
    "features_train = pd.DataFrame(column_extract_train, columns = labels_train)\n",
    "labels_test = np.hstack(labels)\n",
    "features_test = pd.DataFrame(column_extract_test, columns = labels_test)"
   ]
  },
  {
   "cell_type": "markdown",
   "metadata": {},
   "source": [
    "#### Concatinating the original data to categorically separated data"
   ]
  },
  {
   "cell_type": "code",
   "execution_count": 54,
   "metadata": {},
   "outputs": [],
   "source": [
    "X_train_onehotenc = pd.concat([X_train_raw, features_train], axis = 1)\n",
    "X_test_onehotenc = pd.concat([X_test_raw, features_test], axis = 1)"
   ]
  },
  {
   "cell_type": "code",
   "execution_count": 55,
   "metadata": {},
   "outputs": [],
   "source": [
    "# X_id = X_train_onehotenc.filter(items=['id'], axis=1)"
   ]
  },
  {
   "cell_type": "markdown",
   "metadata": {},
   "source": [
    "#### Extracting the relevant columns from the whole dataframe for train set "
   ]
  },
  {
   "cell_type": "code",
   "execution_count": 56,
   "metadata": {},
   "outputs": [],
   "source": [
    "X_train = X_train_onehotenc.filter(items=['id', 'marital_status', 'vintage', 'claim_amount', 'Female', 'Male', \n",
    "                               'Rural', 'Urban', 'Bachelor', 'High School', 'Others', '2L-5L', \n",
    "                               '5L-10L', '<=2L', 'More than 10L', '1', 'More than 1', 'A', 'B', 'C', \n",
    "                               'Gold', 'Platinum', 'Silver'], axis=1)\n",
    "r1 = X_train.corr()\n",
    "r1.to_csv('Correlation.csv')"
   ]
  },
  {
   "cell_type": "markdown",
   "metadata": {},
   "source": [
    "#### Extracting the relevant columns from the whole dataframe for test set"
   ]
  },
  {
   "cell_type": "code",
   "execution_count": 57,
   "metadata": {},
   "outputs": [],
   "source": [
    "X_test = X_test_onehotenc.filter(items=['id', 'marital_status', 'vintage', 'claim_amount', 'Female', 'Male', \n",
    "                              'Rural', 'Urban', 'Bachelor', 'High School', 'Others', '2L-5L', \n",
    "                              '5L-10L', '<=2L', 'More than 10L', '1', 'More than 1', 'A', 'B', 'C', \n",
    "                              'Gold', 'Platinum', 'Silver'], axis=1)"
   ]
  },
  {
   "cell_type": "code",
   "execution_count": 58,
   "metadata": {},
   "outputs": [
    {
     "data": {
      "text/html": [
       "<table class=\"simpletable\">\n",
       "<caption>OLS Regression Results</caption>\n",
       "<tr>\n",
       "  <th>Dep. Variable:</th>          <td>cltv</td>       <th>  R-squared:         </th>  <td>   0.152</td>  \n",
       "</tr>\n",
       "<tr>\n",
       "  <th>Model:</th>                   <td>OLS</td>       <th>  Adj. R-squared:    </th>  <td>   0.152</td>  \n",
       "</tr>\n",
       "<tr>\n",
       "  <th>Method:</th>             <td>Least Squares</td>  <th>  F-statistic:       </th>  <td>   1003.</td>  \n",
       "</tr>\n",
       "<tr>\n",
       "  <th>Date:</th>             <td>Mon, 08 Jan 2024</td> <th>  Prob (F-statistic):</th>   <td>  0.00</td>   \n",
       "</tr>\n",
       "<tr>\n",
       "  <th>Time:</th>                 <td>13:31:53</td>     <th>  Log-Likelihood:    </th> <td>-1.1398e+06</td>\n",
       "</tr>\n",
       "<tr>\n",
       "  <th>No. Observations:</th>      <td> 89392</td>      <th>  AIC:               </th>  <td>2.280e+06</td> \n",
       "</tr>\n",
       "<tr>\n",
       "  <th>Df Residuals:</th>          <td> 89375</td>      <th>  BIC:               </th>  <td>2.280e+06</td> \n",
       "</tr>\n",
       "<tr>\n",
       "  <th>Df Model:</th>              <td>    16</td>      <th>                     </th>      <td> </td>     \n",
       "</tr>\n",
       "<tr>\n",
       "  <th>Covariance Type:</th>      <td>nonrobust</td>    <th>                     </th>      <td> </td>     \n",
       "</tr>\n",
       "</table>\n",
       "<table class=\"simpletable\">\n",
       "<tr>\n",
       "              <td></td>                 <th>coef</th>     <th>std err</th>      <th>t</th>      <th>P>|t|</th>  <th>[0.025</th>    <th>0.975]</th>  \n",
       "</tr>\n",
       "<tr>\n",
       "  <th>const</th>                     <td> 4.741e+04</td> <td> 1451.325</td> <td>   32.670</td> <td> 0.000</td> <td> 4.46e+04</td> <td> 5.03e+04</td>\n",
       "</tr>\n",
       "<tr>\n",
       "  <th>id</th>                        <td>   -0.0106</td> <td>    0.011</td> <td>   -0.979</td> <td> 0.328</td> <td>   -0.032</td> <td>    0.011</td>\n",
       "</tr>\n",
       "<tr>\n",
       "  <th>claim_amount</th>              <td>    2.6948</td> <td>    0.098</td> <td>   27.455</td> <td> 0.000</td> <td>    2.502</td> <td>    2.887</td>\n",
       "</tr>\n",
       "<tr>\n",
       "  <th>marital_status</th>            <td>-7191.0410</td> <td>  572.733</td> <td>  -12.556</td> <td> 0.000</td> <td>-8313.593</td> <td>-6068.489</td>\n",
       "</tr>\n",
       "<tr>\n",
       "  <th>vintage</th>                   <td>  223.6507</td> <td>  122.611</td> <td>    1.824</td> <td> 0.068</td> <td>  -16.665</td> <td>  463.966</td>\n",
       "</tr>\n",
       "<tr>\n",
       "  <th>gender_Male</th>               <td> 2335.0812</td> <td>  567.924</td> <td>    4.112</td> <td> 0.000</td> <td> 1221.956</td> <td> 3448.207</td>\n",
       "</tr>\n",
       "<tr>\n",
       "  <th>area_Urban</th>                <td> 6301.0331</td> <td>  702.679</td> <td>    8.967</td> <td> 0.000</td> <td> 4923.790</td> <td> 7678.277</td>\n",
       "</tr>\n",
       "<tr>\n",
       "  <th>qualification_High School</th> <td> -928.3233</td> <td>  576.107</td> <td>   -1.611</td> <td> 0.107</td> <td>-2057.488</td> <td>  200.841</td>\n",
       "</tr>\n",
       "<tr>\n",
       "  <th>qualification_Others</th>      <td>-8060.2204</td> <td> 1431.864</td> <td>   -5.629</td> <td> 0.000</td> <td>-1.09e+04</td> <td>-5253.781</td>\n",
       "</tr>\n",
       "<tr>\n",
       "  <th>income_5L-10L</th>             <td>-5022.7152</td> <td>  702.751</td> <td>   -7.147</td> <td> 0.000</td> <td>-6400.101</td> <td>-3645.329</td>\n",
       "</tr>\n",
       "<tr>\n",
       "  <th>income_<=2L</th>               <td>-4383.8000</td> <td> 2027.855</td> <td>   -2.162</td> <td> 0.031</td> <td>-8358.376</td> <td> -409.224</td>\n",
       "</tr>\n",
       "<tr>\n",
       "  <th>income_More than 10L</th>      <td>-7041.7128</td> <td>  948.402</td> <td>   -7.425</td> <td> 0.000</td> <td>-8900.572</td> <td>-5182.854</td>\n",
       "</tr>\n",
       "<tr>\n",
       "  <th>num_policies_More than 1</th>  <td> 6.494e+04</td> <td>  610.541</td> <td>  106.364</td> <td> 0.000</td> <td> 6.37e+04</td> <td> 6.61e+04</td>\n",
       "</tr>\n",
       "<tr>\n",
       "  <th>policy_B</th>                  <td>-7669.9268</td> <td>  667.310</td> <td>  -11.494</td> <td> 0.000</td> <td>-8977.848</td> <td>-6362.005</td>\n",
       "</tr>\n",
       "<tr>\n",
       "  <th>policy_C</th>                  <td> 9659.0243</td> <td>  994.913</td> <td>    9.708</td> <td> 0.000</td> <td> 7709.005</td> <td> 1.16e+04</td>\n",
       "</tr>\n",
       "<tr>\n",
       "  <th>type_of_policy_Platinum</th>   <td> -660.4207</td> <td>  697.707</td> <td>   -0.947</td> <td> 0.344</td> <td>-2027.920</td> <td>  707.079</td>\n",
       "</tr>\n",
       "<tr>\n",
       "  <th>type_of_policy_Silver</th>     <td>-2413.4461</td> <td>  825.307</td> <td>   -2.924</td> <td> 0.003</td> <td>-4031.041</td> <td> -795.851</td>\n",
       "</tr>\n",
       "</table>\n",
       "<table class=\"simpletable\">\n",
       "<tr>\n",
       "  <th>Omnibus:</th>       <td>51164.068</td> <th>  Durbin-Watson:     </th>  <td>   1.994</td> \n",
       "</tr>\n",
       "<tr>\n",
       "  <th>Prob(Omnibus):</th>  <td> 0.000</td>   <th>  Jarque-Bera (JB):  </th> <td>403299.249</td>\n",
       "</tr>\n",
       "<tr>\n",
       "  <th>Skew:</th>           <td> 2.731</td>   <th>  Prob(JB):          </th>  <td>    0.00</td> \n",
       "</tr>\n",
       "<tr>\n",
       "  <th>Kurtosis:</th>       <td>11.857</td>   <th>  Cond. No.          </th>  <td>3.83e+05</td> \n",
       "</tr>\n",
       "</table><br/><br/>Notes:<br/>[1] Standard Errors assume that the covariance matrix of the errors is correctly specified.<br/>[2] The condition number is large, 3.83e+05. This might indicate that there are<br/>strong multicollinearity or other numerical problems."
      ],
      "text/plain": [
       "<class 'statsmodels.iolib.summary.Summary'>\n",
       "\"\"\"\n",
       "                            OLS Regression Results                            \n",
       "==============================================================================\n",
       "Dep. Variable:                   cltv   R-squared:                       0.152\n",
       "Model:                            OLS   Adj. R-squared:                  0.152\n",
       "Method:                 Least Squares   F-statistic:                     1003.\n",
       "Date:                Mon, 08 Jan 2024   Prob (F-statistic):               0.00\n",
       "Time:                        13:31:53   Log-Likelihood:            -1.1398e+06\n",
       "No. Observations:               89392   AIC:                         2.280e+06\n",
       "Df Residuals:                   89375   BIC:                         2.280e+06\n",
       "Df Model:                          16                                         \n",
       "Covariance Type:            nonrobust                                         \n",
       "=============================================================================================\n",
       "                                coef    std err          t      P>|t|      [0.025      0.975]\n",
       "---------------------------------------------------------------------------------------------\n",
       "const                      4.741e+04   1451.325     32.670      0.000    4.46e+04    5.03e+04\n",
       "id                           -0.0106      0.011     -0.979      0.328      -0.032       0.011\n",
       "claim_amount                  2.6948      0.098     27.455      0.000       2.502       2.887\n",
       "marital_status            -7191.0410    572.733    -12.556      0.000   -8313.593   -6068.489\n",
       "vintage                     223.6507    122.611      1.824      0.068     -16.665     463.966\n",
       "gender_Male                2335.0812    567.924      4.112      0.000    1221.956    3448.207\n",
       "area_Urban                 6301.0331    702.679      8.967      0.000    4923.790    7678.277\n",
       "qualification_High School  -928.3233    576.107     -1.611      0.107   -2057.488     200.841\n",
       "qualification_Others      -8060.2204   1431.864     -5.629      0.000   -1.09e+04   -5253.781\n",
       "income_5L-10L             -5022.7152    702.751     -7.147      0.000   -6400.101   -3645.329\n",
       "income_<=2L               -4383.8000   2027.855     -2.162      0.031   -8358.376    -409.224\n",
       "income_More than 10L      -7041.7128    948.402     -7.425      0.000   -8900.572   -5182.854\n",
       "num_policies_More than 1   6.494e+04    610.541    106.364      0.000    6.37e+04    6.61e+04\n",
       "policy_B                  -7669.9268    667.310    -11.494      0.000   -8977.848   -6362.005\n",
       "policy_C                   9659.0243    994.913      9.708      0.000    7709.005    1.16e+04\n",
       "type_of_policy_Platinum    -660.4207    697.707     -0.947      0.344   -2027.920     707.079\n",
       "type_of_policy_Silver     -2413.4461    825.307     -2.924      0.003   -4031.041    -795.851\n",
       "==============================================================================\n",
       "Omnibus:                    51164.068   Durbin-Watson:                   1.994\n",
       "Prob(Omnibus):                  0.000   Jarque-Bera (JB):           403299.249\n",
       "Skew:                           2.731   Prob(JB):                         0.00\n",
       "Kurtosis:                      11.857   Cond. No.                     3.83e+05\n",
       "==============================================================================\n",
       "\n",
       "Notes:\n",
       "[1] Standard Errors assume that the covariance matrix of the errors is correctly specified.\n",
       "[2] The condition number is large, 3.83e+05. This might indicate that there are\n",
       "strong multicollinearity or other numerical problems.\n",
       "\"\"\""
      ]
     },
     "execution_count": 58,
     "metadata": {},
     "output_type": "execute_result"
    }
   ],
   "source": [
    "datasetn.rename(columns={'cltv':'cltv'},inplace=True)\n",
    "X=datasetn.drop(['cltv'],axis=1)\n",
    "y=datasetn['cltv']\n",
    "X_constant=sm.add_constant(X)\n",
    "lin_reg=sm.OLS(y,X_constant).fit()\n",
    "lin_reg.summary()"
   ]
  },
  {
   "cell_type": "markdown",
   "metadata": {},
   "source": [
    "### Random forest method"
   ]
  },
  {
   "cell_type": "code",
   "execution_count": 71,
   "metadata": {},
   "outputs": [],
   "source": [
    "x_train, x_test, y_train, y_test = train_test_split(X, y, test_size=0.2, random_state=42)\n",
    "SEED = 0\n",
    "rfr = RandomForestRegressor(n_estimators=20, max_depth=4, random_state = SEED)\n",
    "\n",
    "rfr_for_sum = rfr.fit(x_train, y_train)"
   ]
  },
  {
   "cell_type": "code",
   "execution_count": 72,
   "metadata": {},
   "outputs": [],
   "source": [
    "y_prediction = rfr.predict(x_test)"
   ]
  },
  {
   "cell_type": "code",
   "execution_count": 73,
   "metadata": {},
   "outputs": [
    {
     "ename": "ValueError",
     "evalue": "Classification metrics can't handle a mix of multiclass and continuous targets",
     "output_type": "error",
     "traceback": [
      "\u001b[0;31m---------------------------------------------------------------------------\u001b[0m",
      "\u001b[0;31mValueError\u001b[0m                                Traceback (most recent call last)",
      "Cell \u001b[0;32mIn[73], line 1\u001b[0m\n\u001b[0;32m----> 1\u001b[0m \u001b[38;5;28mprint\u001b[39m(\u001b[43mclassification_report\u001b[49m\u001b[43m(\u001b[49m\u001b[43my_test\u001b[49m\u001b[43m,\u001b[49m\u001b[43my_prediction\u001b[49m\u001b[43m)\u001b[49m)\n",
      "File \u001b[0;32m~/anaconda3/lib/python3.10/site-packages/sklearn/metrics/_classification.py:2310\u001b[0m, in \u001b[0;36mclassification_report\u001b[0;34m(y_true, y_pred, labels, target_names, sample_weight, digits, output_dict, zero_division)\u001b[0m\n\u001b[1;32m   2195\u001b[0m \u001b[38;5;28;01mdef\u001b[39;00m \u001b[38;5;21mclassification_report\u001b[39m(\n\u001b[1;32m   2196\u001b[0m     y_true,\n\u001b[1;32m   2197\u001b[0m     y_pred,\n\u001b[0;32m   (...)\u001b[0m\n\u001b[1;32m   2204\u001b[0m     zero_division\u001b[38;5;241m=\u001b[39m\u001b[38;5;124m\"\u001b[39m\u001b[38;5;124mwarn\u001b[39m\u001b[38;5;124m\"\u001b[39m,\n\u001b[1;32m   2205\u001b[0m ):\n\u001b[1;32m   2206\u001b[0m \u001b[38;5;250m    \u001b[39m\u001b[38;5;124;03m\"\"\"Build a text report showing the main classification metrics.\u001b[39;00m\n\u001b[1;32m   2207\u001b[0m \n\u001b[1;32m   2208\u001b[0m \u001b[38;5;124;03m    Read more in the :ref:`User Guide <classification_report>`.\u001b[39;00m\n\u001b[0;32m   (...)\u001b[0m\n\u001b[1;32m   2307\u001b[0m \u001b[38;5;124;03m    <BLANKLINE>\u001b[39;00m\n\u001b[1;32m   2308\u001b[0m \u001b[38;5;124;03m    \"\"\"\u001b[39;00m\n\u001b[0;32m-> 2310\u001b[0m     y_type, y_true, y_pred \u001b[38;5;241m=\u001b[39m \u001b[43m_check_targets\u001b[49m\u001b[43m(\u001b[49m\u001b[43my_true\u001b[49m\u001b[43m,\u001b[49m\u001b[43m \u001b[49m\u001b[43my_pred\u001b[49m\u001b[43m)\u001b[49m\n\u001b[1;32m   2312\u001b[0m     \u001b[38;5;28;01mif\u001b[39;00m labels \u001b[38;5;129;01mis\u001b[39;00m \u001b[38;5;28;01mNone\u001b[39;00m:\n\u001b[1;32m   2313\u001b[0m         labels \u001b[38;5;241m=\u001b[39m unique_labels(y_true, y_pred)\n",
      "File \u001b[0;32m~/anaconda3/lib/python3.10/site-packages/sklearn/metrics/_classification.py:95\u001b[0m, in \u001b[0;36m_check_targets\u001b[0;34m(y_true, y_pred)\u001b[0m\n\u001b[1;32m     92\u001b[0m     y_type \u001b[38;5;241m=\u001b[39m {\u001b[38;5;124m\"\u001b[39m\u001b[38;5;124mmulticlass\u001b[39m\u001b[38;5;124m\"\u001b[39m}\n\u001b[1;32m     94\u001b[0m \u001b[38;5;28;01mif\u001b[39;00m \u001b[38;5;28mlen\u001b[39m(y_type) \u001b[38;5;241m>\u001b[39m \u001b[38;5;241m1\u001b[39m:\n\u001b[0;32m---> 95\u001b[0m     \u001b[38;5;28;01mraise\u001b[39;00m \u001b[38;5;167;01mValueError\u001b[39;00m(\n\u001b[1;32m     96\u001b[0m         \u001b[38;5;124m\"\u001b[39m\u001b[38;5;124mClassification metrics can\u001b[39m\u001b[38;5;124m'\u001b[39m\u001b[38;5;124mt handle a mix of \u001b[39m\u001b[38;5;132;01m{0}\u001b[39;00m\u001b[38;5;124m and \u001b[39m\u001b[38;5;132;01m{1}\u001b[39;00m\u001b[38;5;124m targets\u001b[39m\u001b[38;5;124m\"\u001b[39m\u001b[38;5;241m.\u001b[39mformat(\n\u001b[1;32m     97\u001b[0m             type_true, type_pred\n\u001b[1;32m     98\u001b[0m         )\n\u001b[1;32m     99\u001b[0m     )\n\u001b[1;32m    101\u001b[0m \u001b[38;5;66;03m# We can't have more than one value on y_type => The set is no more needed\u001b[39;00m\n\u001b[1;32m    102\u001b[0m y_type \u001b[38;5;241m=\u001b[39m y_type\u001b[38;5;241m.\u001b[39mpop()\n",
      "\u001b[0;31mValueError\u001b[0m: Classification metrics can't handle a mix of multiclass and continuous targets"
     ]
    }
   ],
   "source": [
    "print(classification_report(y_test,y_prediction))"
   ]
  },
  {
   "cell_type": "code",
   "execution_count": 61,
   "metadata": {},
   "outputs": [],
   "source": [
    "# Extracting the output and storing to variables\n",
    "cltv = np.array(y_prediction)\n",
    "id_result = X_test[\"id\"].tolist()"
   ]
  },
  {
   "cell_type": "code",
   "execution_count": 62,
   "metadata": {
    "scrolled": true
   },
   "outputs": [],
   "source": [
    "# Saving the output to a .csv ffile\n",
    "result = pd.DataFrame({'id': id_result, 'cltv': cltv}, columns=['id', 'cltv'])\n",
    "result.to_csv('Harisri.csv', index = False)"
   ]
  },
  {
   "cell_type": "code",
   "execution_count": null,
   "metadata": {},
   "outputs": [],
   "source": []
  }
 ],
 "metadata": {
  "kernelspec": {
   "display_name": "Python 3 (ipykernel)",
   "language": "python",
   "name": "python3"
  },
  "language_info": {
   "codemirror_mode": {
    "name": "ipython",
    "version": 3
   },
   "file_extension": ".py",
   "mimetype": "text/x-python",
   "name": "python",
   "nbconvert_exporter": "python",
   "pygments_lexer": "ipython3",
   "version": "3.10.9"
  }
 },
 "nbformat": 4,
 "nbformat_minor": 2
}
